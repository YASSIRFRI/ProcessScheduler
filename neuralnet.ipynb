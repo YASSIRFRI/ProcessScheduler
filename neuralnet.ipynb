{
 "cells": [
  {
   "cell_type": "code",
   "execution_count": 3,
   "metadata": {},
   "outputs": [
    {
     "data": {
      "text/plain": [
       "array([[2., 2.],\n",
       "       [2., 2.],\n",
       "       [2., 2.],\n",
       "       [2., 2.]])"
      ]
     },
     "execution_count": 3,
     "metadata": {},
     "output_type": "execute_result"
    }
   ],
   "source": [
    "import numpy as np\n",
    "\n",
    "\n",
    "\n",
    "\n",
    "\n"
   ]
  },
  {
   "cell_type": "code",
   "execution_count": 8,
   "metadata": {},
   "outputs": [
    {
     "name": "stdout",
     "output_type": "stream",
     "text": [
      "[1 0]\n",
      "[0.73105858 0.26894142]\n"
     ]
    }
   ],
   "source": [
    "def relu(array):\n",
    "    return np.maximum(0,array)\n",
    "\n",
    "\n",
    "def sigmo(x):\n",
    "    return 1/(1+np.exp(-x))\n",
    "\n",
    "\n",
    "test=np.array([1,-1])\n",
    "print(relu(test))\n",
    "print(sigmo(test))\n",
    "\n",
    "\n",
    "\n"
   ]
  },
  {
   "cell_type": "code",
   "execution_count": 19,
   "metadata": {},
   "outputs": [
    {
     "name": "stdout",
     "output_type": "stream",
     "text": [
      "[3. 3. 3. 3.]\n",
      "[0.99999996]\n"
     ]
    }
   ],
   "source": [
    "\n",
    "w1=np.ones((4,2))\n",
    "w2=1.5*np.ones((1,4))\n",
    "b1=np.ones(4)\n",
    "b2=-1\n",
    "\n",
    "def neuralNet(x):\n",
    "    a1=relu(w1.dot(x)+b1)\n",
    "    print(a1)\n",
    "    return sigmo(w2.dot(a1)+b2)\n",
    "\n",
    "\n",
    "print(neuralNet(np.array([1,1])))\n"
   ]
  }
 ],
 "metadata": {
  "kernelspec": {
   "display_name": "Python 3",
   "language": "python",
   "name": "python3"
  },
  "language_info": {
   "codemirror_mode": {
    "name": "ipython",
    "version": 3
   },
   "file_extension": ".py",
   "mimetype": "text/x-python",
   "name": "python",
   "nbconvert_exporter": "python",
   "pygments_lexer": "ipython3",
   "version": "3.9.6"
  }
 },
 "nbformat": 4,
 "nbformat_minor": 2
}
